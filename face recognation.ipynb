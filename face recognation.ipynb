{
 "cells": [
  {
   "cell_type": "code",
   "execution_count": 22,
   "metadata": {},
   "outputs": [],
   "source": [
    "import cv2\n",
    "import numpy as np"
   ]
  },
  {
   "cell_type": "code",
   "execution_count": 23,
   "metadata": {},
   "outputs": [],
   "source": [
    "face_cascade=cv2.CascadeClassifier('cascades/data/haarcascade_frontalface_default.xml')\n",
    "eye_cascade=cv2.CascadeClassifier('cascades/data/haarcascade_eye_tree_eyeglasses.xml')"
   ]
  },
  {
   "cell_type": "code",
   "execution_count": 24,
   "metadata": {},
   "outputs": [],
   "source": [
    "cap=cv2.VideoCapture(0)"
   ]
  },
  {
   "cell_type": "code",
   "execution_count": 25,
   "metadata": {},
   "outputs": [],
   "source": [
    "while (True):\n",
    "    ret,frame=cap.read()\n",
    "    gray=cv2.cvtColor(frame,cv2.COLOR_BGR2GRAY)\n",
    "    faces=face_cascade.detectMultiScale(gray,scaleFactor=1.5,minNeighbors=5)\n",
    "    eyes=eye_cascade.detectMultiScale(gray,scaleFactor=1.5,minNeighbors=5)\n",
    "    for(x,y,w,h) in faces:\n",
    "        #print(x,y,w,h)\n",
    "        roi_gray=gray[y:y+h,x:x+w]\n",
    "        roi_color=frame[y:y+h,x:x+w]\n",
    "        img_item=\"my-image.png\"\n",
    "        cv2.imwrite(img_item,roi_color)\n",
    "        #cv2.imwrite(img_item,roi_gray)\n",
    "        \n",
    "        color=(225,0,0)\n",
    "        stroke=2\n",
    "        end_cord_x=x+w\n",
    "        end_cord_y=y+h\n",
    "        cv2.rectangle(frame,(x,y),(end_cord_x,end_cord_y),color,stroke)\n",
    "    for(x,y,w,h) in eyes:\n",
    "        #print(x,y,w,h)\n",
    "        roi_gray=gray[y:y+h,x:x+w]\n",
    "        roi_color=frame[y:y+h,x:x+w]\n",
    "        #img_item=\"my-image.png\"\n",
    "        img_item2=\"my-image2.png\"\n",
    "        #cv2.imwrite(img_item,roi_gray)\n",
    "        cv2.imwrite(img_item2,roi_color)\n",
    "        \n",
    "        color=(225,0,0)\n",
    "        stroke=2\n",
    "        end_cord_x=x+w\n",
    "        end_cord_y=y+h\n",
    "        cv2.rectangle(frame,(x,y),(end_cord_x,end_cord_y),color,stroke)\n",
    "    cv2.imshow('frame',frame)\n",
    "    if cv2.waitKey(1)==27:\n",
    "        break"
   ]
  },
  {
   "cell_type": "code",
   "execution_count": 21,
   "metadata": {},
   "outputs": [],
   "source": [
    "cap.release()\n",
    "cv2.destroyAllWindows()"
   ]
  },
  {
   "cell_type": "code",
   "execution_count": null,
   "metadata": {},
   "outputs": [],
   "source": []
  },
  {
   "cell_type": "code",
   "execution_count": null,
   "metadata": {},
   "outputs": [],
   "source": []
  }
 ],
 "metadata": {
  "kernelspec": {
   "display_name": "Python 3",
   "language": "python",
   "name": "python3"
  },
  "language_info": {
   "codemirror_mode": {
    "name": "ipython",
    "version": 3
   },
   "file_extension": ".py",
   "mimetype": "text/x-python",
   "name": "python",
   "nbconvert_exporter": "python",
   "pygments_lexer": "ipython3",
   "version": "3.6.5"
  }
 },
 "nbformat": 4,
 "nbformat_minor": 2
}
